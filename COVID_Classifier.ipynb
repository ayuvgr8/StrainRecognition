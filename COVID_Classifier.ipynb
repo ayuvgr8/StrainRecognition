{
  "nbformat": 4,
  "nbformat_minor": 0,
  "metadata": {
    "colab": {
      "name": "COVID_Classifier.ipynb",
      "provenance": [],
      "collapsed_sections": []
    },
    "kernelspec": {
      "name": "python3",
      "display_name": "Python 3"
    },
    "accelerator": "GPU"
  },
  "cells": [
    {
      "cell_type": "code",
      "metadata": {
        "id": "qtddBK7Kwlls",
        "colab_type": "code",
        "colab": {}
      },
      "source": [
        "from google.colab import drive\n",
        "drive.mount('/content/drive' , force_remount=True)"
      ],
      "execution_count": null,
      "outputs": []
    },
    {
      "cell_type": "markdown",
      "metadata": {
        "id": "OjZmmQnhC3iO",
        "colab_type": "text"
      },
      "source": [
        "### **Package installer for chart studio**"
      ]
    },
    {
      "cell_type": "code",
      "metadata": {
        "id": "dRhOBWHMCcdv",
        "colab_type": "code",
        "colab": {}
      },
      "source": [
        " !pip install chart_studio"
      ],
      "execution_count": null,
      "outputs": []
    },
    {
      "cell_type": "markdown",
      "metadata": {
        "id": "Sjwp7L3SDVjI",
        "colab_type": "text"
      },
      "source": [
        "### **Importing Libraries**"
      ]
    },
    {
      "cell_type": "code",
      "metadata": {
        "id": "SCWGzAdYB3ex",
        "colab_type": "code",
        "colab": {
          "base_uri": "https://localhost:8080/",
          "height": 102
        },
        "outputId": "0ee145fb-db69-495d-8e73-0d213304d0a5"
      },
      "source": [
        "import numpy as np\n",
        "import pandas as pd \n",
        "import matplotlib.pyplot as plt\n",
        "\n",
        "import chart_studio.plotly as py\n",
        "import plotly.graph_objs as go\n",
        "from plotly.offline import init_notebook_mode, iplot # plotly offline mode\n",
        "init_notebook_mode(connected=True) \n",
        "\n",
        "import seaborn as sns\n",
        "import cv2\n",
        "\n",
        "import keras\n",
        "from keras.models import Sequential\n",
        "from keras.layers import Dense, Activation, Dropout, Flatten\n",
        "from keras.layers import Conv2D\n",
        "from keras.layers import MaxPooling2D,MaxPool2D\n",
        "from keras.layers.normalization import BatchNormalization\n",
        "from keras.optimizers import Adam\n",
        "from keras.preprocessing.image import ImageDataGenerator\n",
        "\n",
        "import os\n",
        "import matplotlib.pyplot as plt\n",
        "from sklearn.metrics import classification_report\n",
        "from sklearn.metrics import confusion_matrix\n",
        "import seaborn as sns\n",
        "from sklearn import metrics\n",
        "from io import BytesIO \n",
        "import seaborn as sns; sns.set()\n",
        "import tensorflow\n",
        "from keras.utils import np_utils\n",
        "from keras.utils.np_utils import to_categorical\n",
        "from tensorflow.keras.preprocessing import image\n",
        "from tensorflow.keras.models import Model, Sequential\n",
        "from tensorflow.keras.applications.nasnet import NASNetMobile # NASNetMobile\n",
        "from tensorflow.keras.layers import Input, Dense, Dropout, BatchNormalization, Flatten, Activation, GlobalAveragePooling2D\n",
        "from sklearn.metrics import cohen_kappa_score , matthews_corrcoef , classification_report , roc_auc_score , accuracy_score\n",
        "from sklearn.ensemble import RandomForestClassifier"
      ],
      "execution_count": 3,
      "outputs": [
        {
          "output_type": "display_data",
          "data": {
            "text/html": [
              "        <script type=\"text/javascript\">\n",
              "        window.PlotlyConfig = {MathJaxConfig: 'local'};\n",
              "        if (window.MathJax) {MathJax.Hub.Config({SVG: {font: \"STIX-Web\"}});}\n",
              "        if (typeof require !== 'undefined') {\n",
              "        require.undef(\"plotly\");\n",
              "        requirejs.config({\n",
              "            paths: {\n",
              "                'plotly': ['https://cdn.plot.ly/plotly-latest.min']\n",
              "            }\n",
              "        });\n",
              "        require(['plotly'], function(Plotly) {\n",
              "            window._Plotly = Plotly;\n",
              "        });\n",
              "        }\n",
              "        </script>\n",
              "        "
            ]
          },
          "metadata": {
            "tags": []
          }
        },
        {
          "output_type": "stream",
          "text": [
            "/usr/local/lib/python3.6/dist-packages/statsmodels/tools/_testing.py:19: FutureWarning:\n",
            "\n",
            "pandas.util.testing is deprecated. Use the functions in the public API at pandas.testing instead.\n",
            "\n",
            "Using TensorFlow backend.\n"
          ],
          "name": "stderr"
        }
      ]
    },
    {
      "cell_type": "markdown",
      "metadata": {
        "id": "vEvSrcSrDfUu",
        "colab_type": "text"
      },
      "source": [
        "### **Sample image from Covid Dataset**"
      ]
    },
    {
      "cell_type": "code",
      "metadata": {
        "id": "8W4TMtqZCRBf",
        "colab_type": "code",
        "colab": {
          "base_uri": "https://localhost:8080/",
          "height": 282
        },
        "outputId": "e7b8de0d-3338-4912-ea14-323fb7ad58e9"
      },
      "source": [
        "img = plt.imread(\"/content/drive/My Drive/dataset_pr/COVID/Covid (1).png\")\n",
        "img = cv2.resize(img,(224,224))\n",
        "plt.imshow(img)\n",
        "plt.axis(\"off\")\n",
        "plt.show()\n",
        "print(type(img))\n",
        "print(img.shape)"
      ],
      "execution_count": 4,
      "outputs": [
        {
          "output_type": "display_data",
          "data": {
            "image/png": "[encoded data removed]",
            "text/plain": [
              "<Figure size 432x288 with 1 Axes>"
            ]
          },
          "metadata": {
            "tags": []
          }
        },
        {
          "output_type": "stream",
          "text": [
            "<class 'numpy.ndarray'>\n",
            "(224, 224, 3)\n"
          ],
          "name": "stdout"
        }
      ]
    },
    {
      "cell_type": "markdown",
      "metadata": {
        "id": "Sp0BcSppDtAr",
        "colab_type": "text"
      },
      "source": [
        "### **Labelling Images for binary classification**"
      ]
    },
    {
      "cell_type": "code",
      "metadata": {
        "id": "U-PDUHEDClip",
        "colab_type": "code",
        "colab": {}
      },
      "source": [
        "x_ = list()\n",
        "y = list()\n",
        "IMG_SIZE = 224\n",
        "c = 0\n",
        "nc = 0\n",
        "for i in os.listdir(\"/content/drive/My Drive/dataset_pr/COVID\"):\n",
        "    try:\n",
        "        path = \"/content/drive/My Drive/dataset_pr/COVID/\"+i\n",
        "        #print('1')\n",
        "        img = cv2.imread(path)\n",
        "        img_ = cv2.resize(img,(IMG_SIZE,IMG_SIZE))\n",
        "        img_arr = np.asarray(img_)\n",
        "        x_.append(img_arr)\n",
        "        label = 0\n",
        "        c = c+1\n",
        "    except:\n",
        "        None\n",
        "for i in os.listdir(\"/content/drive/My Drive/dataset_pr/NON-COVID\"):\n",
        "    try:\n",
        "        path = \"/content/drive/My Drive/dataset_pr/NON-COVID/\"+i\n",
        "        img = cv2.imread(path)\n",
        "        img_ = cv2.resize(img,(IMG_SIZE,IMG_SIZE))\n",
        "        img_arr = np.asarray(img_)\n",
        "        x_.append(img_arr)\n",
        "        label = 1\n",
        "        nc = nc+1\n",
        "    except:\n",
        "        None"
      ],
      "execution_count": 5,
      "outputs": []
    },
    {
      "cell_type": "code",
      "metadata": {
        "id": "omvlxdI6Dr1M",
        "colab_type": "code",
        "colab": {
          "base_uri": "https://localhost:8080/",
          "height": 34
        },
        "outputId": "906846b0-0dc1-45bc-d3c1-cc53e50459eb"
      },
      "source": [
        "x1=[]\n",
        "from keras.preprocessing import image\n",
        "for item in x_:\n",
        "      if len(item.shape) > 2 and item.shape[2] == 4:\n",
        "            item = cv2.cvtColor(item, cv2.COLOR_BGRA2BGR)\n",
        "      x1.append(item)\n",
        "Y = []\n",
        "for i in range(1252):\n",
        "    Y.append(1)\n",
        "\n",
        "for i in range(1229):\n",
        "    Y.append(0)\n",
        "X = np.asarray(x1)\n",
        "y = np.asarray(Y)\n",
        "print(X.shape)"
      ],
      "execution_count": 120,
      "outputs": [
        {
          "output_type": "stream",
          "text": [
            "(2481, 224, 224, 3)\n"
          ],
          "name": "stdout"
        }
      ]
    },
    {
      "cell_type": "markdown",
      "metadata": {
        "id": "GOcjufk6IFuX",
        "colab_type": "text"
      },
      "source": [
        "### **Split between train , test**"
      ]
    },
    {
      "cell_type": "code",
      "metadata": {
        "id": "DTeo7XKZIAsp",
        "colab_type": "code",
        "colab": {}
      },
      "source": [
        "from sklearn.model_selection import train_test_split\n",
        "X_train, x_test, y_train, y_test = train_test_split(X , y , test_size=0.10 , random_state=42)\n",
        "X_train, x_val, y_train, y_val = train_test_split(X_train , y_train, test_size=0.10 , random_state=42)"
      ],
      "execution_count": 121,
      "outputs": []
    },
    {
      "cell_type": "markdown",
      "metadata": {
        "id": "lnBSaC1RubXI",
        "colab_type": "text"
      },
      "source": [
        "### **Making Base Model**"
      ]
    },
    {
      "cell_type": "code",
      "metadata": {
        "id": "Jup6iBM91mgX",
        "colab_type": "code",
        "colab": {}
      },
      "source": [
        "base_model = NASNetMobile(include_top=False, weights='imagenet', input_shape=(224,224,3))\n",
        "x = base_model.output\n",
        "x = GlobalAveragePooling2D()(x)\n",
        "x = Dense(128, activation='tanh')(x)\n",
        "predictions = Dense(8, activation='tanh')(x)\n",
        "model_feat = Model(inputs=base_model.input,outputs=predictions)"
      ],
      "execution_count": 43,
      "outputs": []
    },
    {
      "cell_type": "markdown",
      "metadata": {
        "id": "Kzt32T4sXnSo",
        "colab_type": "text"
      },
      "source": [
        "### **Function for performance parameters**"
      ]
    },
    {
      "cell_type": "code",
      "metadata": {
        "id": "kDexPzT7RW_b",
        "colab_type": "code",
        "colab": {}
      },
      "source": [
        "def print_performance_metrics(y_test, max_y_pred_test):\n",
        "    print('Test Accuracy:', np.round(metrics.accuracy_score(y_test, max_y_pred_test),4))\n",
        "    print('Precision:', np.round(metrics.precision_score(y_test, max_y_pred_test,average='weighted'),4))\n",
        "    print('Recall:', np.round(metrics.recall_score(y_test, max_y_pred_test , average='weighted'),4))\n",
        "    print('F1 Score:', np.round(metrics.f1_score(y_test, max_y_pred_test, average='weighted'),4))\n",
        "    print('Cohen Kappa Score:',cohen_kappa_score(y_test, max_y_pred_test, labels=None, weights=None))\n",
        "    print('Matthews Corrcoef:',matthews_corrcoef(y_test, max_y_pred_test))\n",
        "    print('ROC AUC:',roc_auc_score(y_test,max_y_pred_test))\n",
        "    print('\\t\\tClassification Report:\\n', classification_report(y_test,max_y_pred_test))"
      ],
      "execution_count": 52,
      "outputs": []
    },
    {
      "cell_type": "markdown",
      "metadata": {
        "id": "45g8K4DkX7fo",
        "colab_type": "text"
      },
      "source": [
        "### **Function for Confusion Matrix**"
      ]
    },
    {
      "cell_type": "code",
      "metadata": {
        "id": "_gOYFNDbWeau",
        "colab_type": "code",
        "colab": {}
      },
      "source": [
        "def print_confusion_matrix(y, y_pred):\n",
        "    cm = confusion_matrix(y_pred, y)\n",
        "    cm_df = pd.DataFrame(cm , index = ['Covid','Non-Covid'],columns = ['Covid','Non-Covid'])\n",
        "    plt.figure(figsize=(6,4))\n",
        "    sns.heatmap(cm_df, annot=True)\n",
        "    plt.title('Confusion Matrix')\n",
        "    plt.ylabel('True label')\n",
        "    plt.xlabel('Predicted label')\n",
        "    plt.show()\n",
        "\n"
      ],
      "execution_count": 98,
      "outputs": []
    },
    {
      "cell_type": "markdown",
      "metadata": {
        "id": "VE9wbZABQHxb",
        "colab_type": "text"
      },
      "source": [
        "### **K-NN Classifier**"
      ]
    },
    {
      "cell_type": "code",
      "metadata": {
        "id": "vciJvj36JGo-",
        "colab_type": "code",
        "colab": {
          "base_uri": "https://localhost:8080/",
          "height": 68
        },
        "outputId": "19f0af7a-660d-4480-a80d-2643fe036c85"
      },
      "source": [
        "from sklearn.neighbors import KNeighborsClassifier\n",
        "feat_train = model_feat.predict(X_train)\n",
        "feat_test = model_feat.predict(x_test)\n",
        "feat_val = model_feat.predict(x_val)\n",
        "model = KNeighborsClassifier(n_neighbors = 5 , metric = 'minkowski' , p=2)\n",
        "model.fit(feat_train , y_train)"
      ],
      "execution_count": 101,
      "outputs": [
        {
          "output_type": "execute_result",
          "data": {
            "text/plain": [
              "KNeighborsClassifier(algorithm='auto', leaf_size=30, metric='minkowski',\n",
              "                     metric_params=None, n_jobs=None, n_neighbors=5, p=2,\n",
              "                     weights='uniform')"
            ]
          },
          "metadata": {
            "tags": []
          },
          "execution_count": 101
        }
      ]
    },
    {
      "cell_type": "code",
      "metadata": {
        "id": "gS5l3cqjfqE4",
        "colab_type": "code",
        "colab": {
          "base_uri": "https://localhost:8080/",
          "height": 624
        },
        "outputId": "5fcbe276-e6ab-438a-e0d4-39d506a020d2"
      },
      "source": [
        "y_pred_train = model.predict(feat_train)\n",
        "y_pred_test = model.predict(feat_test)\n",
        "y_pred_val = model.predict(feat_val)\n",
        "max_y_pred_train = np.round(y_pred_train)\n",
        "max_y_pred_test = np.round(y_pred_test)\n",
        "max_y_pred_val = np.round(y_pred_val)\n",
        "\n",
        "print('Training Accuracy :' , np.round(metrics.accuracy_score(y_train, max_y_pred_train),4))\n",
        "print('Validation Accuracy :', np.round(metrics.accuracy_score(y_val, max_y_pred_val),4) )\n",
        "print_confusion_matrix(y_test,max_y_pred_test)\n",
        "print_performance_metrics(y_test,max_y_pred_test)"
      ],
      "execution_count": 102,
      "outputs": [
        {
          "output_type": "stream",
          "text": [
            "Training Accuracy : 0.7789\n",
            "Validation Accuracy : 0.5848\n"
          ],
          "name": "stdout"
        },
        {
          "output_type": "display_data",
          "data": {
            "image/png": "[encoded data removed]",
            "text/plain": [
              "<Figure size 432x288 with 2 Axes>"
            ]
          },
          "metadata": {
            "tags": []
          }
        },
        {
          "output_type": "stream",
          "text": [
            "Test Accuracy: 0.6185\n",
            "Precision: 0.6206\n",
            "Recall: 0.6185\n",
            "F1 Score: 0.6183\n",
            "Cohen Kappa Score: 0.23838500917608418\n",
            "Matthews Corrcoef: 0.23931740487309797\n",
            "ROC AUC: 0.6195736434108526\n",
            "\t\tClassification Report:\n",
            "               precision    recall  f1-score   support\n",
            "\n",
            "           0       0.64      0.59      0.62       129\n",
            "           1       0.60      0.65      0.62       120\n",
            "\n",
            "    accuracy                           0.62       249\n",
            "   macro avg       0.62      0.62      0.62       249\n",
            "weighted avg       0.62      0.62      0.62       249\n",
            "\n"
          ],
          "name": "stdout"
        }
      ]
    },
    {
      "cell_type": "markdown",
      "metadata": {
        "id": "svfLp5N_4xJB",
        "colab_type": "text"
      },
      "source": [
        "### **ANN Classifier**"
      ]
    },
    {
      "cell_type": "code",
      "metadata": {
        "id": "oxdM7k8W0TbG",
        "colab_type": "code",
        "colab": {
          "base_uri": "https://localhost:8080/",
          "height": 51
        },
        "outputId": "96d05f98-56fa-4282-d98a-528d749518b9"
      },
      "source": [
        "feat_train = model_feat.predict(X_train)\n",
        "feat_test = model_feat.predict(x_test)\n",
        "feat_val = model_feat.predict(x_val)\n",
        "model = Sequential()\n",
        "model.add(Dense(5 , activation = 'relu'))\n",
        "model.add(Dense(5 , activation = 'relu'))\n",
        "model.add(Dense(1, activation = 'sigmoid'))\n",
        "\n",
        "model.compile(optimizer = 'adam' , loss = 'binary_crossentropy' , metrics =['accuracy'])\n",
        "model.fit(feat_train , y_train)"
      ],
      "execution_count": 106,
      "outputs": [
        {
          "output_type": "stream",
          "text": [
            "63/63 [==============================] - 0s 4ms/step - loss: 0.6770 - accuracy: 0.5782\n"
          ],
          "name": "stdout"
        },
        {
          "output_type": "execute_result",
          "data": {
            "text/plain": [
              "<tensorflow.python.keras.callbacks.History at 0x7fba152700f0>"
            ]
          },
          "metadata": {
            "tags": []
          },
          "execution_count": 106
        }
      ]
    },
    {
      "cell_type": "code",
      "metadata": {
        "id": "6ziUGSfy43kR",
        "colab_type": "code",
        "colab": {
          "base_uri": "https://localhost:8080/",
          "height": 624
        },
        "outputId": "96e82506-62a3-4a2a-fb19-97009ffe5ee7"
      },
      "source": [
        "y_pred_train = model.predict(feat_train)\n",
        "y_pred_test = model.predict(feat_test)\n",
        "y_pred_val = model.predict(feat_val)\n",
        "max_y_pred_train = np.round(y_pred_train)\n",
        "max_y_pred_test = np.round(y_pred_test)\n",
        "max_y_pred_val = np.round(y_pred_val)\n",
        "\n",
        "print('Training Accuracy :' , np.round(metrics.accuracy_score(y_train, max_y_pred_train),4))\n",
        "print('Validation Accuracy :', np.round(metrics.accuracy_score(y_val, max_y_pred_val),4) )\n",
        "print_confusion_matrix(y_test,max_y_pred_test)\n",
        "print_performance_metrics(y_test,max_y_pred_test)"
      ],
      "execution_count": 107,
      "outputs": [
        {
          "output_type": "stream",
          "text": [
            "Training Accuracy : 0.5971\n",
            "Validation Accuracy : 0.5759\n"
          ],
          "name": "stdout"
        },
        {
          "output_type": "display_data",
          "data": {
            "image/png": "[encoded data removed]",
            "text/plain": [
              "<Figure size 432x288 with 2 Axes>"
            ]
          },
          "metadata": {
            "tags": []
          }
        },
        {
          "output_type": "stream",
          "text": [
            "Test Accuracy: 0.5341\n",
            "Precision: 0.5796\n",
            "Recall: 0.5341\n",
            "F1 Score: 0.4821\n",
            "Cohen Kappa Score: 0.08929247067726065\n",
            "Matthews Corrcoef: 0.1187835866481968\n",
            "ROC AUC: 0.5457364341085271\n",
            "\t\tClassification Report:\n",
            "               precision    recall  f1-score   support\n",
            "\n",
            "           0       0.64      0.22      0.33       129\n",
            "           1       0.51      0.87      0.64       120\n",
            "\n",
            "    accuracy                           0.53       249\n",
            "   macro avg       0.58      0.55      0.49       249\n",
            "weighted avg       0.58      0.53      0.48       249\n",
            "\n"
          ],
          "name": "stdout"
        }
      ]
    },
    {
      "cell_type": "markdown",
      "metadata": {
        "id": "wTadMaCKz43D",
        "colab_type": "text"
      },
      "source": [
        "### **Decision Tree Classifier**"
      ]
    },
    {
      "cell_type": "code",
      "metadata": {
        "id": "srYUBVadRDh3",
        "colab_type": "code",
        "colab": {
          "base_uri": "https://localhost:8080/",
          "height": 119
        },
        "outputId": "df8b7d34-33ae-4ad2-c20a-1166ed5ff377"
      },
      "source": [
        "from sklearn.tree import DecisionTreeClassifier\n",
        "model = DecisionTreeClassifier()\n",
        "feat_train = model_feat.predict(X_train)\n",
        "feat_test = model_feat.predict(x_test)\n",
        "feat_val = model_feat.predict(x_val)\n",
        "model.fit(feat_train , y_train)"
      ],
      "execution_count": 108,
      "outputs": [
        {
          "output_type": "execute_result",
          "data": {
            "text/plain": [
              "DecisionTreeClassifier(ccp_alpha=0.0, class_weight=None, criterion='gini',\n",
              "                       max_depth=None, max_features=None, max_leaf_nodes=None,\n",
              "                       min_impurity_decrease=0.0, min_impurity_split=None,\n",
              "                       min_samples_leaf=1, min_samples_split=2,\n",
              "                       min_weight_fraction_leaf=0.0, presort='deprecated',\n",
              "                       random_state=None, splitter='best')"
            ]
          },
          "metadata": {
            "tags": []
          },
          "execution_count": 108
        }
      ]
    },
    {
      "cell_type": "code",
      "metadata": {
        "id": "XFNdexJn2dzq",
        "colab_type": "code",
        "colab": {
          "base_uri": "https://localhost:8080/",
          "height": 624
        },
        "outputId": "cb9153b7-009b-4017-f1d2-17cbca239dcf"
      },
      "source": [
        "y_pred_train = model.predict(feat_train)\n",
        "y_pred_test = model.predict(feat_test)\n",
        "y_pred_val = model.predict(feat_val)\n",
        "max_y_pred_train = np.round(y_pred_train)\n",
        "max_y_pred_test = np.round(y_pred_test)\n",
        "max_y_pred_val = np.round(y_pred_val)\n",
        "\n",
        "print('Training Accuracy :' , np.round(metrics.accuracy_score(y_train, max_y_pred_train),4))\n",
        "print('Validation Accuracy :', np.round(metrics.accuracy_score(y_val, max_y_pred_val),4) )\n",
        "print_confusion_matrix(y_test,max_y_pred_test)\n",
        "print_performance_metrics(y_test,max_y_pred_test)"
      ],
      "execution_count": 110,
      "outputs": [
        {
          "output_type": "stream",
          "text": [
            "Training Accuracy : 1.0\n",
            "Validation Accuracy : 0.558\n"
          ],
          "name": "stdout"
        },
        {
          "output_type": "display_data",
          "data": {
            "image/png": "[encoded data removed]",
            "text/plain": [
              "<Figure size 432x288 with 2 Axes>"
            ]
          },
          "metadata": {
            "tags": []
          }
        },
        {
          "output_type": "stream",
          "text": [
            "Test Accuracy: 0.5542\n",
            "Precision: 0.5565\n",
            "Recall: 0.5542\n",
            "F1 Score: 0.5538\n",
            "Cohen Kappa Score: 0.11062843903851727\n",
            "Matthews Corrcoef: 0.11123349507115017\n",
            "ROC AUC: 0.5555232558139536\n",
            "\t\tClassification Report:\n",
            "               precision    recall  f1-score   support\n",
            "\n",
            "           0       0.58      0.52      0.55       129\n",
            "           1       0.53      0.59      0.56       120\n",
            "\n",
            "    accuracy                           0.55       249\n",
            "   macro avg       0.56      0.56      0.55       249\n",
            "weighted avg       0.56      0.55      0.55       249\n",
            "\n"
          ],
          "name": "stdout"
        }
      ]
    },
    {
      "cell_type": "markdown",
      "metadata": {
        "id": "DNsk1Qlj0pQs",
        "colab_type": "text"
      },
      "source": [
        "### **SVM Classiier**"
      ]
    },
    {
      "cell_type": "code",
      "metadata": {
        "id": "HaaI1FSW0ydB",
        "colab_type": "code",
        "colab": {
          "base_uri": "https://localhost:8080/",
          "height": 85
        },
        "outputId": "87246758-d18d-4b24-9fa4-0546d692cb1a"
      },
      "source": [
        "from sklearn.svm import SVC\n",
        "model = SVC( kernel = 'sigmoid',random_state = 0)\n",
        "\n",
        "feat_train = model_feat.predict(X_train)\n",
        "feat_test = model_feat.predict(x_test)\n",
        "feat_val = model_feat.predict(x_val)\n",
        "model.fit(feat_train , y_train)"
      ],
      "execution_count": 111,
      "outputs": [
        {
          "output_type": "execute_result",
          "data": {
            "text/plain": [
              "SVC(C=1.0, break_ties=False, cache_size=200, class_weight=None, coef0=0.0,\n",
              "    decision_function_shape='ovr', degree=3, gamma='scale', kernel='sigmoid',\n",
              "    max_iter=-1, probability=False, random_state=0, shrinking=True, tol=0.001,\n",
              "    verbose=False)"
            ]
          },
          "metadata": {
            "tags": []
          },
          "execution_count": 111
        }
      ]
    },
    {
      "cell_type": "code",
      "metadata": {
        "id": "MRYMru3G3cVJ",
        "colab_type": "code",
        "colab": {
          "base_uri": "https://localhost:8080/",
          "height": 624
        },
        "outputId": "7a8282fc-8bc1-4b50-a747-c2724434a674"
      },
      "source": [
        "y_pred_train = model.predict(feat_train)\n",
        "y_pred_test = model.predict(feat_test)\n",
        "y_pred_val = model.predict(feat_val)\n",
        "max_y_pred_train = np.round(y_pred_train)\n",
        "max_y_pred_test = np.round(y_pred_test)\n",
        "max_y_pred_val = np.round(y_pred_val)\n",
        "\n",
        "print('Training Accuracy :' , np.round(metrics.accuracy_score(y_train, max_y_pred_train),4))\n",
        "print('Validation Accuracy :', np.round(metrics.accuracy_score(y_val, max_y_pred_val),4) )\n",
        "print_confusion_matrix(y_test,max_y_pred_test)\n",
        "print_performance_metrics(y_test,max_y_pred_test)"
      ],
      "execution_count": 112,
      "outputs": [
        {
          "output_type": "stream",
          "text": [
            "Training Accuracy : 0.5911\n",
            "Validation Accuracy : 0.5804\n"
          ],
          "name": "stdout"
        },
        {
          "output_type": "display_data",
          "data": {
            "image/png": "[encoded data removed]",
            "text/plain": [
              "<Figure size 432x288 with 2 Axes>"
            ]
          },
          "metadata": {
            "tags": []
          }
        },
        {
          "output_type": "stream",
          "text": [
            "Test Accuracy: 0.5542\n",
            "Precision: 0.5661\n",
            "Recall: 0.5542\n",
            "F1 Score: 0.5113\n",
            "Cohen Kappa Score: 0.08899436369029967\n",
            "Matthews Corrcoef: 0.10797683842894185\n",
            "ROC AUC: 0.5436046511627907\n",
            "\t\tClassification Report:\n",
            "               precision    recall  f1-score   support\n",
            "\n",
            "           0       0.55      0.84      0.66       129\n",
            "           1       0.59      0.25      0.35       120\n",
            "\n",
            "    accuracy                           0.55       249\n",
            "   macro avg       0.57      0.54      0.51       249\n",
            "weighted avg       0.57      0.55      0.51       249\n",
            "\n"
          ],
          "name": "stdout"
        }
      ]
    },
    {
      "cell_type": "markdown",
      "metadata": {
        "id": "E6XQsy6M1gYA",
        "colab_type": "text"
      },
      "source": [
        "### **Random Forest Classifier**"
      ]
    },
    {
      "cell_type": "code",
      "metadata": {
        "id": "V-djJfHItXpG",
        "colab_type": "code",
        "colab": {
          "base_uri": "https://localhost:8080/",
          "height": 153
        },
        "outputId": "9146a3d4-3403-4e8d-fbfb-684294ff3abe"
      },
      "source": [
        "from sklearn.ensemble import RandomForestClassifier\n",
        "model = RandomForestClassifier()\n",
        "\n",
        "feat_train = model_feat.predict(X_train)\n",
        "feat_test = model_feat.predict(x_test)\n",
        "feat_val = model_feat.predict(x_val)\n",
        "model.fit(feat_train , y_train)"
      ],
      "execution_count": 113,
      "outputs": [
        {
          "output_type": "execute_result",
          "data": {
            "text/plain": [
              "RandomForestClassifier(bootstrap=True, ccp_alpha=0.0, class_weight=None,\n",
              "                       criterion='gini', max_depth=None, max_features='auto',\n",
              "                       max_leaf_nodes=None, max_samples=None,\n",
              "                       min_impurity_decrease=0.0, min_impurity_split=None,\n",
              "                       min_samples_leaf=1, min_samples_split=2,\n",
              "                       min_weight_fraction_leaf=0.0, n_estimators=100,\n",
              "                       n_jobs=None, oob_score=False, random_state=None,\n",
              "                       verbose=0, warm_start=False)"
            ]
          },
          "metadata": {
            "tags": []
          },
          "execution_count": 113
        }
      ]
    },
    {
      "cell_type": "code",
      "metadata": {
        "id": "S0aA1WI1zpN-",
        "colab_type": "code",
        "colab": {
          "base_uri": "https://localhost:8080/",
          "height": 624
        },
        "outputId": "88a6d697-3e30-4451-f237-c20892c6b54e"
      },
      "source": [
        "y_pred_train = model.predict(feat_train)\n",
        "y_pred_test = model.predict(feat_test)\n",
        "y_pred_val = model.predict(feat_val)\n",
        "max_y_pred_train = np.round(y_pred_train)\n",
        "max_y_pred_test = np.round(y_pred_test)\n",
        "max_y_pred_val = np.round(y_pred_val)\n",
        "\n",
        "print('Training Accuracy :' , np.round(metrics.accuracy_score(y_train, max_y_pred_train),4))\n",
        "print('Validation Accuracy :', np.round(metrics.accuracy_score(y_val, max_y_pred_val),4) )\n",
        "print_confusion_matrix(y_test,max_y_pred_test)\n",
        "print_performance_metrics(y_test,max_y_pred_test)"
      ],
      "execution_count": 114,
      "outputs": [
        {
          "output_type": "stream",
          "text": [
            "Training Accuracy : 1.0\n",
            "Validation Accuracy : 0.6473\n"
          ],
          "name": "stdout"
        },
        {
          "output_type": "display_data",
          "data": {
            "image/png": "[encoded data removed]",
            "text/plain": [
              "<Figure size 432x288 with 2 Axes>"
            ]
          },
          "metadata": {
            "tags": []
          }
        },
        {
          "output_type": "stream",
          "text": [
            "Test Accuracy: 0.6707\n",
            "Precision: 0.6722\n",
            "Recall: 0.6707\n",
            "F1 Score: 0.6707\n",
            "Cohen Kappa Score: 0.34203402938901784\n",
            "Matthews Corrcoef: 0.34274090526229195\n",
            "ROC AUC: 0.6714147286821706\n",
            "\t\tClassification Report:\n",
            "               precision    recall  f1-score   support\n",
            "\n",
            "           0       0.69      0.65      0.67       129\n",
            "           1       0.65      0.69      0.67       120\n",
            "\n",
            "    accuracy                           0.67       249\n",
            "   macro avg       0.67      0.67      0.67       249\n",
            "weighted avg       0.67      0.67      0.67       249\n",
            "\n"
          ],
          "name": "stdout"
        }
      ]
    },
    {
      "cell_type": "markdown",
      "metadata": {
        "id": "cm4yyZ-k3PNQ",
        "colab_type": "text"
      },
      "source": [
        "\n",
        "### **XG Boost Classifier**"
      ]
    },
    {
      "cell_type": "code",
      "metadata": {
        "id": "ckfQ8Vmo3Ywh",
        "colab_type": "code",
        "colab": {
          "base_uri": "https://localhost:8080/",
          "height": 136
        },
        "outputId": "e5f45427-876d-4ccb-ccac-fb2a92a619a3"
      },
      "source": [
        "from xgboost import XGBClassifier\n",
        "model = XGBClassifier()\n",
        "\n",
        "feat_train = model_feat.predict(X_train)\n",
        "feat_test = model_feat.predict(x_test)\n",
        "feat_val = model_feat.predict(x_val)\n",
        "model.fit(feat_train , y_train)"
      ],
      "execution_count": 115,
      "outputs": [
        {
          "output_type": "execute_result",
          "data": {
            "text/plain": [
              "XGBClassifier(base_score=0.5, booster='gbtree', colsample_bylevel=1,\n",
              "              colsample_bynode=1, colsample_bytree=1, gamma=0,\n",
              "              learning_rate=0.1, max_delta_step=0, max_depth=3,\n",
              "              min_child_weight=1, missing=None, n_estimators=100, n_jobs=1,\n",
              "              nthread=None, objective='binary:logistic', random_state=0,\n",
              "              reg_alpha=0, reg_lambda=1, scale_pos_weight=1, seed=None,\n",
              "              silent=None, subsample=1, verbosity=1)"
            ]
          },
          "metadata": {
            "tags": []
          },
          "execution_count": 115
        }
      ]
    },
    {
      "cell_type": "code",
      "metadata": {
        "id": "HqZBeIAp4avC",
        "colab_type": "code",
        "colab": {
          "base_uri": "https://localhost:8080/",
          "height": 624
        },
        "outputId": "4ec2ae15-2149-43da-af71-276d31efa066"
      },
      "source": [
        "y_pred_train = model.predict(feat_train)\n",
        "y_pred_test = model.predict(feat_test)\n",
        "y_pred_val = model.predict(feat_val)\n",
        "max_y_pred_train = np.round(y_pred_train)\n",
        "max_y_pred_test = np.round(y_pred_test)\n",
        "max_y_pred_val = np.round(y_pred_val)\n",
        "\n",
        "print('Training Accuracy :' , np.round(metrics.accuracy_score(y_train, max_y_pred_train),4))\n",
        "print('Validation Accuracy :', np.round(metrics.accuracy_score(y_val, max_y_pred_val),4) )\n",
        "print_confusion_matrix(y_test,max_y_pred_test)\n",
        "print_performance_metrics(y_test,max_y_pred_test)"
      ],
      "execution_count": 116,
      "outputs": [
        {
          "output_type": "stream",
          "text": [
            "Training Accuracy : 0.7709\n",
            "Validation Accuracy : 0.6741\n"
          ],
          "name": "stdout"
        },
        {
          "output_type": "display_data",
          "data": {
            "image/png": "[encoded data removed]",
            "text/plain": [
              "<Figure size 432x288 with 2 Axes>"
            ]
          },
          "metadata": {
            "tags": []
          }
        },
        {
          "output_type": "stream",
          "text": [
            "Test Accuracy: 0.6426\n",
            "Precision: 0.6424\n",
            "Recall: 0.6426\n",
            "F1 Score: 0.6416\n",
            "Cohen Kappa Score: 0.2823277955892355\n",
            "Matthews Corrcoef: 0.2830742453835767\n",
            "ROC AUC: 0.6407945736434109\n",
            "\t\tClassification Report:\n",
            "               precision    recall  f1-score   support\n",
            "\n",
            "           0       0.64      0.69      0.67       129\n",
            "           1       0.64      0.59      0.61       120\n",
            "\n",
            "    accuracy                           0.64       249\n",
            "   macro avg       0.64      0.64      0.64       249\n",
            "weighted avg       0.64      0.64      0.64       249\n",
            "\n"
          ],
          "name": "stdout"
        }
      ]
    },
    {
      "cell_type": "markdown",
      "metadata": {
        "id": "xiTVg4nM36De",
        "colab_type": "text"
      },
      "source": [
        "### **AdaBoost Classifier**"
      ]
    },
    {
      "cell_type": "code",
      "metadata": {
        "id": "ZKgXFl9U4BNQ",
        "colab_type": "code",
        "colab": {
          "base_uri": "https://localhost:8080/",
          "height": 51
        },
        "outputId": "50dc2331-fcd0-4e2f-bbfc-302e329ced88"
      },
      "source": [
        "from sklearn.ensemble import AdaBoostClassifier\n",
        "model = AdaBoostClassifier()\n",
        "\n",
        "feat_train = model_feat.predict(X_train)\n",
        "feat_test = model_feat.predict(x_test)\n",
        "feat_val = model_feat.predict(x_val)\n",
        "model.fit(feat_train , y_train)"
      ],
      "execution_count": 117,
      "outputs": [
        {
          "output_type": "execute_result",
          "data": {
            "text/plain": [
              "AdaBoostClassifier(algorithm='SAMME.R', base_estimator=None, learning_rate=1.0,\n",
              "                   n_estimators=50, random_state=None)"
            ]
          },
          "metadata": {
            "tags": []
          },
          "execution_count": 117
        }
      ]
    },
    {
      "cell_type": "code",
      "metadata": {
        "id": "U7sy0JMu4118",
        "colab_type": "code",
        "colab": {
          "base_uri": "https://localhost:8080/",
          "height": 624
        },
        "outputId": "0ae8d8ee-db62-4ee5-a4c6-7b918df5c5a9"
      },
      "source": [
        "y_pred_train = model.predict(feat_train)\n",
        "y_pred_test = model.predict(feat_test)\n",
        "y_pred_val = model.predict(feat_val)\n",
        "max_y_pred_train = np.round(y_pred_train)\n",
        "max_y_pred_test = np.round(y_pred_test)\n",
        "max_y_pred_val = np.round(y_pred_val)\n",
        "print('Training Accuracy :' , np.round(metrics.accuracy_score(y_train, max_y_pred_train),4))\n",
        "print('Validation Accuracy :', np.round(metrics.accuracy_score(y_val, max_y_pred_val),4) )\n",
        "print_confusion_matrix(y_test,max_y_pred_test)\n",
        "print_performance_metrics(y_test,max_y_pred_test)"
      ],
      "execution_count": 119,
      "outputs": [
        {
          "output_type": "stream",
          "text": [
            "Training Accuracy : 0.7022\n",
            "Validation Accuracy : 0.6116\n"
          ],
          "name": "stdout"
        },
        {
          "output_type": "display_data",
          "data": {
            "image/png": "[encoded data removed]",
            "text/plain": [
              "<Figure size 432x288 with 2 Axes>"
            ]
          },
          "metadata": {
            "tags": []
          }
        },
        {
          "output_type": "stream",
          "text": [
            "Test Accuracy: 0.6586\n",
            "Precision: 0.6585\n",
            "Recall: 0.6586\n",
            "F1 Score: 0.6586\n",
            "Cohen Kappa Score: 0.316177183289716\n",
            "Matthews Corrcoef: 0.3161874155348495\n",
            "ROC AUC: 0.6580426356589147\n",
            "\t\tClassification Report:\n",
            "               precision    recall  f1-score   support\n",
            "\n",
            "           0       0.67      0.67      0.67       129\n",
            "           1       0.65      0.64      0.64       120\n",
            "\n",
            "    accuracy                           0.66       249\n",
            "   macro avg       0.66      0.66      0.66       249\n",
            "weighted avg       0.66      0.66      0.66       249\n",
            "\n"
          ],
          "name": "stdout"
        }
      ]
    },
    {
      "cell_type": "code",
      "metadata": {
        "id": "jBbQdAFc49r-",
        "colab_type": "code",
        "colab": {}
      },
      "source": [
        ""
      ],
      "execution_count": null,
      "outputs": []
    }
  ]
}